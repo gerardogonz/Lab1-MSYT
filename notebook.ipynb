{
 "cells": [
  {
   "cell_type": "markdown",
   "metadata": {},
   "source": [
    "<center> <img style=\"float: left; margin: 30px 15px 15px 15px;\" src=\"https://pngimage.net/wp-content/uploads/2018/06/logo-iteso-png-5.png\" width=\"600\" height=\"200\" />"
   ]
  },
  {
   "cell_type": "markdown",
   "metadata": {},
   "source": [
    "<center><font color=#555555><font size=6> MAF1731 - Microstructure and Trading Systems </font> <br> <br>\n",
    "    \n",
    "<center><font color=#555555><font size=5> B.Eng Financial Engineering </font> <br> <br> <br> <br>\n",
    "\n",
    "<center><font color=#555555><font size=6> Ana Sofía Durrmuller Acosta y Gerardo González Flores </font> <br> <br>\n",
    "   \n",
    "<center> <font color= #555555> <font size = 4> Febrero 2023 </a> | <font color= #555555> <font size = 4> Repository: <a href='https://github.com/gerardogonz/Lab1-MSYT'>Link</a></font>"
   ]
  },
  {
   "cell_type": "markdown",
   "metadata": {},
   "source": [
    "<hr style=\"border:0.02in solid gray\"> </hr>"
   ]
  },
  {
   "cell_type": "markdown",
   "metadata": {},
   "source": [
    "<center> <font color= #555555> <font size = 6> Lab 1 </font> <br> <br> <font color= #555555> <font size = 5> Some interesting title for your work  </font>"
   ]
  },
  {
   "cell_type": "markdown",
   "metadata": {},
   "source": [
    "<hr style=\"border:0.02in solid gray\"> </hr>"
   ]
  },
  {
   "cell_type": "markdown",
   "metadata": {},
   "source": [
    "<br>"
   ]
  },
  {
   "cell_type": "markdown",
   "metadata": {},
   "source": [
    "<font color= #555555> <font size = 4> Abstract </font>"
   ]
  },
  {
   "cell_type": "markdown",
   "metadata": {},
   "source": [
    "<font color= #6B6B6B> <font size = 3>  Include here a description of the whole work, use no more than 400 words, you can use **Bold** and *Italic* highlights, also you can inclue [links](www.iteso.mx). Usually is a good strategy to generate this text at the very end of the process, since you have to include all aspects of the work, from a brief introduction, to problem definitions and methods used, to finally the results found. </font>"
   ]
  },
  {
   "cell_type": "markdown",
   "metadata": {},
   "source": [
    "<br>"
   ]
  },
  {
   "cell_type": "markdown",
   "metadata": {},
   "source": [
    "# <font color= #6B6B6B> <font size = 6> 1. Introduction </font>"
   ]
  },
  {
   "cell_type": "markdown",
   "metadata": {},
   "source": [
    "<hr style=\"border:0.02in solid gray\"> </hr>"
   ]
  },
  {
   "cell_type": "markdown",
   "metadata": {},
   "source": [
    "This is an introduction, normally, it is done at the very end, when all the other content in the notebook is completed but just before the abstract (which is short version of the introduction) ... "
   ]
  },
  {
   "cell_type": "markdown",
   "metadata": {},
   "source": [
    "<br>"
   ]
  },
  {
   "cell_type": "markdown",
   "metadata": {},
   "source": [
    "# <font color= #6B6B6B> 2. Install/Load Packages and Depedencies </font>"
   ]
  },
  {
   "cell_type": "markdown",
   "metadata": {},
   "source": [
    "<hr style=\"border:0.02in solid gray\"> </hr>"
   ]
  },
  {
   "cell_type": "code",
   "execution_count": 1,
   "metadata": {},
   "outputs": [],
   "source": [
    "import functions as fn\n",
    "import data as dt\n",
    "import pandas as pd\n",
    "import numpy as np"
   ]
  },
  {
   "cell_type": "markdown",
   "metadata": {},
   "source": [
    "<br>"
   ]
  },
  {
   "cell_type": "markdown",
   "metadata": {},
   "source": [
    "# <font color= #6B6B6B> 3. Data Description </font>"
   ]
  },
  {
   "cell_type": "markdown",
   "metadata": {},
   "source": [
    "<hr style=\"border:0.02in solid gray\"> </hr>"
   ]
  },
  {
   "cell_type": "code",
   "execution_count": 2,
   "metadata": {},
   "outputs": [
    {
     "name": "stderr",
     "output_type": "stream",
     "text": [
      "C:\\Users\\gerag\\Documents\\Ingenieria Financiera\\9no Semestre\\Micro estructuras y sistemas de trading\\Lab1\\Lab1-MSYT\\data.py:33: FutureWarning: Sorting because non-concatenation axis is not aligned. A future version\n",
      "of pandas will change to not sort by default.\n",
      "\n",
      "To accept the future behavior, pass 'sort=False'.\n",
      "\n",
      "To retain the current behavior and silence the warning, pass 'sort=True'.\n",
      "\n",
      "  df22,df23,df24,df25], axis=0).drop(37)\n",
      "C:\\Users\\gerag\\Documents\\Ingenieria Financiera\\9no Semestre\\Micro estructuras y sistemas de trading\\Lab1\\Lab1-MSYT\\data.py:47: RuntimeWarning: invalid value encountered in greater\n",
      "  if df25[\"Peso (%)\"][df25[\"Ticker\"] == ticker].values > 0:\n"
     ]
    },
    {
     "name": "stdout",
     "output_type": "stream",
     "text": [
      "[*********************100%***********************]  31 of 31 completed\n",
      "[*********************100%***********************]  1 of 1 completed\n",
      "[*********************100%***********************]  5 of 5 completed\n",
      "[*********************100%***********************]  1 of 1 completed\n"
     ]
    }
   ],
   "source": [
    "tickers, cash_tickers, pond, pond_cash = dt.tickers()\n",
    "fechas_consulta=pd.to_datetime([\"2021-01-29\",\"2021-02-26\",\"2021-03-31\",\"2021-04-30\",\"2021-05-31\",\n",
    "        \"2021-06-30\",\"2021-07-30\",\"2021-08-31\",\"2021-09-30\",\"2021-10-26\",\n",
    "        \"2021-11-30\",\"2021-12-31\",\"2022-01-26\",\"2022-02-28\",\"2022-03-31\",\n",
    "        \"2022-04-29\",\"2022-05-31\",\"2022-06-30\",\"2022-07-29\",\"2022-08-31\",\n",
    "        \"2022-09-30\",\"2022-10-31\",\"2022-11-30\",\"2022-12-30\",\"2023-01-25\"])\n",
    "\n",
    "precios = fn.precios(\n",
    "    fn.ticker_reformat(tickers),\n",
    "    start_date=fechas_consulta[0],\n",
    "    end_date=\"2023-01-26\",\n",
    "    fechas_consulta=fechas_consulta\n",
    "    )\n",
    "precios_cash = fn.precios(\n",
    "    fn.ticker_reformat(cash_tickers),\n",
    "    start_date=fechas_consulta[0],\n",
    "    end_date=\"2023-01-26\",\n",
    "    fechas_consulta=fechas_consulta\n",
    ")\n",
    "precios_cash.drop(\"MXN\",axis=1,inplace=True)\n",
    "pasiva_inicial, cash = fn.pasiva_inicial(precios,precios_cash,tickers,pond,pond_cash,1e6)"
   ]
  },
  {
   "cell_type": "code",
   "execution_count": 11,
   "metadata": {},
   "outputs": [
    {
     "data": {
      "text/html": [
       "<div>\n",
       "<style scoped>\n",
       "    .dataframe tbody tr th:only-of-type {\n",
       "        vertical-align: middle;\n",
       "    }\n",
       "\n",
       "    .dataframe tbody tr th {\n",
       "        vertical-align: top;\n",
       "    }\n",
       "\n",
       "    .dataframe thead th {\n",
       "        text-align: right;\n",
       "    }\n",
       "</style>\n",
       "<table border=\"1\" class=\"dataframe\">\n",
       "  <thead>\n",
       "    <tr style=\"text-align: right;\">\n",
       "      <th></th>\n",
       "      <th>AC.MX</th>\n",
       "      <th>ALFAA.MX</th>\n",
       "      <th>ALSEA.MX</th>\n",
       "      <th>AMXL.MX</th>\n",
       "      <th>ASURB.MX</th>\n",
       "      <th>BBAJIOO.MX</th>\n",
       "      <th>BIMBOA.MX</th>\n",
       "      <th>BOLSAA.MX</th>\n",
       "      <th>CEMEXCPO.MX</th>\n",
       "      <th>CUERVO.MX</th>\n",
       "      <th>...</th>\n",
       "      <th>MEGACPO.MX</th>\n",
       "      <th>OMAB.MX</th>\n",
       "      <th>ORBIA.MX</th>\n",
       "      <th>PE&amp;OLES.MX</th>\n",
       "      <th>PINFRA.MX</th>\n",
       "      <th>Q.MX</th>\n",
       "      <th>TLEVISACPO.MX</th>\n",
       "      <th>VESTA.MX</th>\n",
       "      <th>WALMEX.MX</th>\n",
       "      <th>MXN</th>\n",
       "    </tr>\n",
       "  </thead>\n",
       "  <tbody>\n",
       "    <tr>\n",
       "      <th>2021-01-29</th>\n",
       "      <td>93.070000</td>\n",
       "      <td>12.90</td>\n",
       "      <td>23.110001</td>\n",
       "      <td>13.67</td>\n",
       "      <td>322.529999</td>\n",
       "      <td>24.760000</td>\n",
       "      <td>38.520000</td>\n",
       "      <td>46.000000</td>\n",
       "      <td>11.760000</td>\n",
       "      <td>43.730000</td>\n",
       "      <td>...</td>\n",
       "      <td>74.120003</td>\n",
       "      <td>120.989998</td>\n",
       "      <td>44.180000</td>\n",
       "      <td>306.750000</td>\n",
       "      <td>154.059998</td>\n",
       "      <td>107.720001</td>\n",
       "      <td>30.990000</td>\n",
       "      <td>38.650002</td>\n",
       "      <td>58.349998</td>\n",
       "      <td>20.252251</td>\n",
       "    </tr>\n",
       "    <tr>\n",
       "      <th>2021-02-26</th>\n",
       "      <td>94.769997</td>\n",
       "      <td>11.39</td>\n",
       "      <td>25.440001</td>\n",
       "      <td>13.39</td>\n",
       "      <td>391.429993</td>\n",
       "      <td>24.030001</td>\n",
       "      <td>39.299999</td>\n",
       "      <td>42.849998</td>\n",
       "      <td>13.940000</td>\n",
       "      <td>43.150002</td>\n",
       "      <td>...</td>\n",
       "      <td>72.239998</td>\n",
       "      <td>121.360001</td>\n",
       "      <td>48.790001</td>\n",
       "      <td>287.149994</td>\n",
       "      <td>153.880005</td>\n",
       "      <td>113.790001</td>\n",
       "      <td>31.129999</td>\n",
       "      <td>39.490002</td>\n",
       "      <td>59.680000</td>\n",
       "      <td>20.910900</td>\n",
       "    </tr>\n",
       "    <tr>\n",
       "      <th>2021-03-31</th>\n",
       "      <td>100.849998</td>\n",
       "      <td>11.80</td>\n",
       "      <td>30.280001</td>\n",
       "      <td>13.96</td>\n",
       "      <td>363.029999</td>\n",
       "      <td>27.570000</td>\n",
       "      <td>42.900002</td>\n",
       "      <td>41.250000</td>\n",
       "      <td>14.420000</td>\n",
       "      <td>46.759998</td>\n",
       "      <td>...</td>\n",
       "      <td>73.239998</td>\n",
       "      <td>128.520004</td>\n",
       "      <td>54.570000</td>\n",
       "      <td>263.630005</td>\n",
       "      <td>156.360001</td>\n",
       "      <td>112.419998</td>\n",
       "      <td>36.380001</td>\n",
       "      <td>42.820000</td>\n",
       "      <td>64.470001</td>\n",
       "      <td>20.576000</td>\n",
       "    </tr>\n",
       "    <tr>\n",
       "      <th>2021-04-30</th>\n",
       "      <td>108.459999</td>\n",
       "      <td>14.17</td>\n",
       "      <td>32.950001</td>\n",
       "      <td>14.15</td>\n",
       "      <td>342.609985</td>\n",
       "      <td>32.119999</td>\n",
       "      <td>40.540001</td>\n",
       "      <td>44.939999</td>\n",
       "      <td>16.090000</td>\n",
       "      <td>48.310001</td>\n",
       "      <td>...</td>\n",
       "      <td>74.110001</td>\n",
       "      <td>125.959999</td>\n",
       "      <td>56.500000</td>\n",
       "      <td>260.869995</td>\n",
       "      <td>156.539993</td>\n",
       "      <td>110.059998</td>\n",
       "      <td>50.259998</td>\n",
       "      <td>39.480000</td>\n",
       "      <td>66.309998</td>\n",
       "      <td>20.024300</td>\n",
       "    </tr>\n",
       "    <tr>\n",
       "      <th>2021-05-31</th>\n",
       "      <td>113.040001</td>\n",
       "      <td>13.98</td>\n",
       "      <td>33.410000</td>\n",
       "      <td>15.58</td>\n",
       "      <td>363.279999</td>\n",
       "      <td>34.590000</td>\n",
       "      <td>43.849998</td>\n",
       "      <td>44.500000</td>\n",
       "      <td>16.809999</td>\n",
       "      <td>50.189999</td>\n",
       "      <td>...</td>\n",
       "      <td>75.910004</td>\n",
       "      <td>128.059998</td>\n",
       "      <td>56.410000</td>\n",
       "      <td>302.589996</td>\n",
       "      <td>159.690002</td>\n",
       "      <td>108.480003</td>\n",
       "      <td>52.900002</td>\n",
       "      <td>41.029999</td>\n",
       "      <td>65.400002</td>\n",
       "      <td>19.926100</td>\n",
       "    </tr>\n",
       "    <tr>\n",
       "      <th>2021-06-30</th>\n",
       "      <td>115.620003</td>\n",
       "      <td>14.96</td>\n",
       "      <td>35.470001</td>\n",
       "      <td>15.00</td>\n",
       "      <td>367.890015</td>\n",
       "      <td>35.759998</td>\n",
       "      <td>43.889999</td>\n",
       "      <td>43.910000</td>\n",
       "      <td>16.820000</td>\n",
       "      <td>52.439999</td>\n",
       "      <td>...</td>\n",
       "      <td>70.540001</td>\n",
       "      <td>130.320007</td>\n",
       "      <td>52.139999</td>\n",
       "      <td>275.160004</td>\n",
       "      <td>159.470001</td>\n",
       "      <td>92.910004</td>\n",
       "      <td>57.020000</td>\n",
       "      <td>38.779999</td>\n",
       "      <td>65.070000</td>\n",
       "      <td>19.803101</td>\n",
       "    </tr>\n",
       "    <tr>\n",
       "      <th>2021-07-30</th>\n",
       "      <td>120.459999</td>\n",
       "      <td>15.16</td>\n",
       "      <td>40.369999</td>\n",
       "      <td>16.68</td>\n",
       "      <td>361.609985</td>\n",
       "      <td>35.639999</td>\n",
       "      <td>45.880001</td>\n",
       "      <td>40.630001</td>\n",
       "      <td>16.240000</td>\n",
       "      <td>49.810001</td>\n",
       "      <td>...</td>\n",
       "      <td>69.800003</td>\n",
       "      <td>121.849998</td>\n",
       "      <td>54.250000</td>\n",
       "      <td>280.700012</td>\n",
       "      <td>150.139999</td>\n",
       "      <td>96.889999</td>\n",
       "      <td>53.919998</td>\n",
       "      <td>39.099998</td>\n",
       "      <td>65.620003</td>\n",
       "      <td>19.851400</td>\n",
       "    </tr>\n",
       "    <tr>\n",
       "      <th>2021-08-31</th>\n",
       "      <td>129.369995</td>\n",
       "      <td>14.10</td>\n",
       "      <td>39.259998</td>\n",
       "      <td>19.77</td>\n",
       "      <td>360.429993</td>\n",
       "      <td>38.439999</td>\n",
       "      <td>50.820000</td>\n",
       "      <td>41.599998</td>\n",
       "      <td>16.500000</td>\n",
       "      <td>51.189999</td>\n",
       "      <td>...</td>\n",
       "      <td>69.930000</td>\n",
       "      <td>121.230003</td>\n",
       "      <td>57.340000</td>\n",
       "      <td>284.589996</td>\n",
       "      <td>150.000000</td>\n",
       "      <td>95.250000</td>\n",
       "      <td>52.939999</td>\n",
       "      <td>37.570000</td>\n",
       "      <td>71.459999</td>\n",
       "      <td>20.139250</td>\n",
       "    </tr>\n",
       "    <tr>\n",
       "      <th>2021-09-30</th>\n",
       "      <td>125.879997</td>\n",
       "      <td>14.31</td>\n",
       "      <td>41.610001</td>\n",
       "      <td>18.26</td>\n",
       "      <td>385.769989</td>\n",
       "      <td>39.000000</td>\n",
       "      <td>58.040001</td>\n",
       "      <td>39.720001</td>\n",
       "      <td>14.890000</td>\n",
       "      <td>44.820000</td>\n",
       "      <td>...</td>\n",
       "      <td>63.099998</td>\n",
       "      <td>121.059998</td>\n",
       "      <td>52.910000</td>\n",
       "      <td>243.300003</td>\n",
       "      <td>143.080002</td>\n",
       "      <td>94.589996</td>\n",
       "      <td>45.520000</td>\n",
       "      <td>36.200001</td>\n",
       "      <td>70.129997</td>\n",
       "      <td>20.501101</td>\n",
       "    </tr>\n",
       "    <tr>\n",
       "      <th>2021-10-26</th>\n",
       "      <td>125.160004</td>\n",
       "      <td>15.40</td>\n",
       "      <td>45.430000</td>\n",
       "      <td>18.00</td>\n",
       "      <td>393.320007</td>\n",
       "      <td>40.459999</td>\n",
       "      <td>57.439999</td>\n",
       "      <td>40.639999</td>\n",
       "      <td>13.870000</td>\n",
       "      <td>44.040001</td>\n",
       "      <td>...</td>\n",
       "      <td>62.270000</td>\n",
       "      <td>124.269997</td>\n",
       "      <td>52.389999</td>\n",
       "      <td>298.920013</td>\n",
       "      <td>149.009995</td>\n",
       "      <td>99.690002</td>\n",
       "      <td>43.570000</td>\n",
       "      <td>37.389999</td>\n",
       "      <td>73.110001</td>\n",
       "      <td>20.170500</td>\n",
       "    </tr>\n",
       "  </tbody>\n",
       "</table>\n",
       "<p>10 rows × 32 columns</p>\n",
       "</div>"
      ],
      "text/plain": [
       "                 AC.MX  ALFAA.MX   ALSEA.MX  AMXL.MX    ASURB.MX  BBAJIOO.MX  \\\n",
       "2021-01-29   93.070000     12.90  23.110001    13.67  322.529999   24.760000   \n",
       "2021-02-26   94.769997     11.39  25.440001    13.39  391.429993   24.030001   \n",
       "2021-03-31  100.849998     11.80  30.280001    13.96  363.029999   27.570000   \n",
       "2021-04-30  108.459999     14.17  32.950001    14.15  342.609985   32.119999   \n",
       "2021-05-31  113.040001     13.98  33.410000    15.58  363.279999   34.590000   \n",
       "2021-06-30  115.620003     14.96  35.470001    15.00  367.890015   35.759998   \n",
       "2021-07-30  120.459999     15.16  40.369999    16.68  361.609985   35.639999   \n",
       "2021-08-31  129.369995     14.10  39.259998    19.77  360.429993   38.439999   \n",
       "2021-09-30  125.879997     14.31  41.610001    18.26  385.769989   39.000000   \n",
       "2021-10-26  125.160004     15.40  45.430000    18.00  393.320007   40.459999   \n",
       "\n",
       "            BIMBOA.MX  BOLSAA.MX  CEMEXCPO.MX  CUERVO.MX  ...  MEGACPO.MX  \\\n",
       "2021-01-29  38.520000  46.000000    11.760000  43.730000  ...   74.120003   \n",
       "2021-02-26  39.299999  42.849998    13.940000  43.150002  ...   72.239998   \n",
       "2021-03-31  42.900002  41.250000    14.420000  46.759998  ...   73.239998   \n",
       "2021-04-30  40.540001  44.939999    16.090000  48.310001  ...   74.110001   \n",
       "2021-05-31  43.849998  44.500000    16.809999  50.189999  ...   75.910004   \n",
       "2021-06-30  43.889999  43.910000    16.820000  52.439999  ...   70.540001   \n",
       "2021-07-30  45.880001  40.630001    16.240000  49.810001  ...   69.800003   \n",
       "2021-08-31  50.820000  41.599998    16.500000  51.189999  ...   69.930000   \n",
       "2021-09-30  58.040001  39.720001    14.890000  44.820000  ...   63.099998   \n",
       "2021-10-26  57.439999  40.639999    13.870000  44.040001  ...   62.270000   \n",
       "\n",
       "               OMAB.MX   ORBIA.MX  PE&OLES.MX   PINFRA.MX        Q.MX  \\\n",
       "2021-01-29  120.989998  44.180000  306.750000  154.059998  107.720001   \n",
       "2021-02-26  121.360001  48.790001  287.149994  153.880005  113.790001   \n",
       "2021-03-31  128.520004  54.570000  263.630005  156.360001  112.419998   \n",
       "2021-04-30  125.959999  56.500000  260.869995  156.539993  110.059998   \n",
       "2021-05-31  128.059998  56.410000  302.589996  159.690002  108.480003   \n",
       "2021-06-30  130.320007  52.139999  275.160004  159.470001   92.910004   \n",
       "2021-07-30  121.849998  54.250000  280.700012  150.139999   96.889999   \n",
       "2021-08-31  121.230003  57.340000  284.589996  150.000000   95.250000   \n",
       "2021-09-30  121.059998  52.910000  243.300003  143.080002   94.589996   \n",
       "2021-10-26  124.269997  52.389999  298.920013  149.009995   99.690002   \n",
       "\n",
       "            TLEVISACPO.MX   VESTA.MX  WALMEX.MX        MXN  \n",
       "2021-01-29      30.990000  38.650002  58.349998  20.252251  \n",
       "2021-02-26      31.129999  39.490002  59.680000  20.910900  \n",
       "2021-03-31      36.380001  42.820000  64.470001  20.576000  \n",
       "2021-04-30      50.259998  39.480000  66.309998  20.024300  \n",
       "2021-05-31      52.900002  41.029999  65.400002  19.926100  \n",
       "2021-06-30      57.020000  38.779999  65.070000  19.803101  \n",
       "2021-07-30      53.919998  39.099998  65.620003  19.851400  \n",
       "2021-08-31      52.939999  37.570000  71.459999  20.139250  \n",
       "2021-09-30      45.520000  36.200001  70.129997  20.501101  \n",
       "2021-10-26      43.570000  37.389999  73.110001  20.170500  \n",
       "\n",
       "[10 rows x 32 columns]"
      ]
     },
     "execution_count": 11,
     "metadata": {},
     "output_type": "execute_result"
    }
   ],
   "source": [
    "precios.head(10)"
   ]
  },
  {
   "cell_type": "markdown",
   "metadata": {},
   "source": [
    "<br>"
   ]
  },
  {
   "cell_type": "markdown",
   "metadata": {},
   "source": [
    "# <font color= #6B6B6B> 4. A particular Process  </font>"
   ]
  },
  {
   "cell_type": "markdown",
   "metadata": {},
   "source": [
    "<hr style=\"border:0.02in solid gray\"> </hr>"
   ]
  },
  {
   "cell_type": "code",
   "execution_count": 3,
   "metadata": {},
   "outputs": [],
   "source": [
    "# DELETE THIS CELL IN YOUR FILE\n",
    "\n",
    "# A particular process that is relevant for the work you are presenting."
   ]
  },
  {
   "cell_type": "markdown",
   "metadata": {},
   "source": [
    "<br>"
   ]
  },
  {
   "cell_type": "markdown",
   "metadata": {},
   "source": [
    "# <font color= #6B6B6B> 5. Another particular Process  </font>"
   ]
  },
  {
   "cell_type": "markdown",
   "metadata": {},
   "source": [
    "<hr style=\"border:0.02in solid gray\"> </hr>"
   ]
  },
  {
   "cell_type": "code",
   "execution_count": 4,
   "metadata": {},
   "outputs": [],
   "source": [
    "# DELETE THIS CELL IN YOUR FILE\n",
    "\n",
    "# Another particular process that is relevant for the work. Normally, you include between 2 and 5 at the most."
   ]
  },
  {
   "cell_type": "markdown",
   "metadata": {},
   "source": [
    "<br>"
   ]
  },
  {
   "cell_type": "markdown",
   "metadata": {},
   "source": [
    "# <font color= #6B6B6B> <font size = 6> 5. Results </font>"
   ]
  },
  {
   "cell_type": "markdown",
   "metadata": {},
   "source": [
    "<hr style=\"border:0.02in solid gray\"> </hr>"
   ]
  },
  {
   "cell_type": "code",
   "execution_count": 5,
   "metadata": {},
   "outputs": [],
   "source": [
    "# DELETE THIS CELL IN YOUR FILE\n",
    "\n",
    "# In here you present the general results, and also, a discussion of such results."
   ]
  },
  {
   "cell_type": "markdown",
   "metadata": {},
   "source": [
    "<br>"
   ]
  },
  {
   "cell_type": "markdown",
   "metadata": {},
   "source": [
    "## <font color= #6B6B6B> 5.1 Results of first processes </font>"
   ]
  },
  {
   "cell_type": "code",
   "execution_count": 6,
   "metadata": {},
   "outputs": [],
   "source": [
    "# DELETE THIS CELL IN YOUR FILE\n",
    "\n",
    "# Separate your results according to the main processes you are working on"
   ]
  },
  {
   "cell_type": "markdown",
   "metadata": {},
   "source": [
    "<br>"
   ]
  },
  {
   "cell_type": "markdown",
   "metadata": {},
   "source": [
    "## <font color= #6B6B6B> 5.2 Results of another proces </font>"
   ]
  },
  {
   "cell_type": "code",
   "execution_count": 7,
   "metadata": {},
   "outputs": [],
   "source": [
    "# DELETE THIS CELL IN YOUR FILE\n",
    "\n",
    "# You can have several processes with which you are obtaining the results you need."
   ]
  },
  {
   "cell_type": "markdown",
   "metadata": {},
   "source": [
    "<br>"
   ]
  },
  {
   "cell_type": "markdown",
   "metadata": {},
   "source": [
    "# <font color= #6B6B6B> <font size = 6> 6. References </font>"
   ]
  },
  {
   "cell_type": "markdown",
   "metadata": {},
   "source": [
    "<hr style=\"border:0.02in solid gray\"> </hr>"
   ]
  },
  {
   "cell_type": "code",
   "execution_count": 8,
   "metadata": {},
   "outputs": [],
   "source": [
    "# DELETE THIS CELL IN YOUR FILE\n",
    "\n",
    "# Citations, and other references you are using.\n",
    "\n",
    "# DO INCLUDE THE FOLLOWING CITATION FOR THIS TEMPLATE"
   ]
  },
  {
   "cell_type": "markdown",
   "metadata": {},
   "source": [
    "[1] Munnoz, 2020. Python project template. https://github.com/iffranciscome/python-project. (2021)."
   ]
  },
  {
   "cell_type": "markdown",
   "metadata": {},
   "source": [
    "<br>"
   ]
  },
  {
   "cell_type": "markdown",
   "metadata": {},
   "source": [
    "# <font color= red> TESTS (DO NOT INCLUDE IN THE FINAL NOTEBOOK) </font>"
   ]
  },
  {
   "cell_type": "markdown",
   "metadata": {},
   "source": [
    "<hr style=\"border:0.02in solid red\"> </hr>"
   ]
  },
  {
   "cell_type": "markdown",
   "metadata": {},
   "source": [
    "Next are a series of tests to verify that everything is working ok. From correctly installed and loaded packages, to import other scripts, print plots with plotly"
   ]
  },
  {
   "cell_type": "code",
   "execution_count": 9,
   "metadata": {},
   "outputs": [],
   "source": [
    "import pandas as pd\n",
    "import data as dt"
   ]
  },
  {
   "cell_type": "code",
   "execution_count": 10,
   "metadata": {},
   "outputs": [
    {
     "ename": "AttributeError",
     "evalue": "module 'data' has no attribute 'dict_test'",
     "output_type": "error",
     "traceback": [
      "\u001b[1;31m---------------------------------------------------------------------------\u001b[0m",
      "\u001b[1;31mAttributeError\u001b[0m                            Traceback (most recent call last)",
      "\u001b[1;32m<ipython-input-10-4c5cddcedf61>\u001b[0m in \u001b[0;36m<module>\u001b[1;34m\u001b[0m\n\u001b[0;32m      1\u001b[0m \u001b[1;31m# -- TEST 1 :\u001b[0m\u001b[1;33m\u001b[0m\u001b[1;33m\u001b[0m\u001b[1;33m\u001b[0m\u001b[0m\n\u001b[0;32m      2\u001b[0m \u001b[1;31m# verify that the script is being read\u001b[0m\u001b[1;33m\u001b[0m\u001b[1;33m\u001b[0m\u001b[1;33m\u001b[0m\u001b[0m\n\u001b[1;32m----> 3\u001b[1;33m \u001b[0mprint\u001b[0m\u001b[1;33m(\u001b[0m\u001b[0mdt\u001b[0m\u001b[1;33m.\u001b[0m\u001b[0mdict_test\u001b[0m\u001b[1;33m)\u001b[0m\u001b[1;33m\u001b[0m\u001b[1;33m\u001b[0m\u001b[0m\n\u001b[0m",
      "\u001b[1;31mAttributeError\u001b[0m: module 'data' has no attribute 'dict_test'"
     ]
    }
   ],
   "source": [
    "# -- TEST 1 : \n",
    "# verify that the script is being read\n",
    "print(dt.dict_test)"
   ]
  },
  {
   "cell_type": "code",
   "execution_count": null,
   "metadata": {},
   "outputs": [],
   "source": [
    "# -- TEST 2 :\n",
    "# verify that installed pandas module works correctly\n",
    "df_dict_test = pd.DataFrame(dt.dict_test, index=[0,1])\n",
    "print(df_dict_test)"
   ]
  },
  {
   "cell_type": "code",
   "execution_count": null,
   "metadata": {},
   "outputs": [],
   "source": [
    "# -- TEST 3 :\n",
    "# verify you can use plotly and visualize plots in jupyter notebook\n",
    "\n",
    "from plotly.offline import iplot   # print the plot inside jupyter and offline\n",
    "import plotly.graph_objects as go  # functions to create plots\n",
    "\n",
    "# example data\n",
    "df = pd.DataFrame({'column_a': [1, 2, 3, 4, 5], 'column_b': [1, 2, 3, 4, 5]})\n",
    "# basic plotly plot\n",
    "data = [go.Bar(x=df['column_a'], y=df['column_b'])]\n",
    "\n",
    "# instruction to view it inside jupyter\n",
    "iplot(data)"
   ]
  },
  {
   "cell_type": "code",
   "execution_count": null,
   "metadata": {},
   "outputs": [],
   "source": [
    "# -- TEST 4 :\n",
    "# verify you can use plotly and visualize plots in web browser locally\n",
    "\n",
    "import plotly.io as pio            # to define input-output of plots\n",
    "pio.renderers.default = \"browser\"  # to render the plot locally in your default web browser\n",
    "\n",
    "# basic plotly plot\n",
    "plot_data = go.Figure(go.Bar(x=df['column_a'], y=df['column_b']))\n",
    "\n",
    "# instruction to view it in specified render (in this case browser)\n",
    "plot_data.show()"
   ]
  }
 ],
 "metadata": {
  "kernelspec": {
   "display_name": "Python 3",
   "language": "python",
   "name": "python3"
  },
  "language_info": {
   "codemirror_mode": {
    "name": "ipython",
    "version": 3
   },
   "file_extension": ".py",
   "mimetype": "text/x-python",
   "name": "python",
   "nbconvert_exporter": "python",
   "pygments_lexer": "ipython3",
   "version": "3.7.3"
  }
 },
 "nbformat": 4,
 "nbformat_minor": 4
}
