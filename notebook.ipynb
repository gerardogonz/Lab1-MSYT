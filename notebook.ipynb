{
 "cells": [
  {
   "cell_type": "markdown",
   "metadata": {},
   "source": [
    "<center> <img style=\"float: left; margin: 30px 15px 15px 15px;\" src=\"https://pngimage.net/wp-content/uploads/2018/06/logo-iteso-png-5.png\" width=\"600\" height=\"200\" />"
   ]
  },
  {
   "cell_type": "markdown",
   "metadata": {},
   "source": [
    "<center><font color=#555555><font size=6> MAF1731 - Microstructure and Trading Systems </font> <br> <br>\n",
    "    \n",
    "<center><font color=#555555><font size=5> B.Eng Financial Engineering </font> <br> <br> <br> <br>\n",
    "\n",
    "<center><font color=#555555><font size=6> Ana Sofía Durrmuller Acosta y Gerardo González Flores </font> <br> <br>\n",
    "   \n",
    "<center> <font color= #555555> <font size = 4> Febrero 2023 </a> | <font color= #555555> <font size = 4> Repository: <a href='https://github.com/gerardogonz/Lab1-MSYT'>Link</a></font>"
   ]
  },
  {
   "cell_type": "markdown",
   "metadata": {},
   "source": [
    "<hr style=\"border:0.02in solid gray\"> </hr>"
   ]
  },
  {
   "cell_type": "markdown",
   "metadata": {},
   "source": [
    "<center> <font color= #555555> <font size = 6> Lab 1 </font> <br> <br> <font color= #555555> <font size = 5> Some interesting title for your work  </font>"
   ]
  },
  {
   "cell_type": "markdown",
   "metadata": {},
   "source": [
    "<hr style=\"border:0.02in solid gray\"> </hr>"
   ]
  },
  {
   "cell_type": "markdown",
   "metadata": {},
   "source": [
    "<br>"
   ]
  },
  {
   "cell_type": "markdown",
   "metadata": {},
   "source": [
    "<font color= #555555> <font size = 4> Abstract </font>"
   ]
  },
  {
   "cell_type": "markdown",
   "metadata": {},
   "source": [
    "<font color= #6B6B6B> <font size = 3>  Include here a description of the whole work, use no more than 400 words, you can use **Bold** and *Italic* highlights, also you can inclue [links](www.iteso.mx). Usually is a good strategy to generate this text at the very end of the process, since you have to include all aspects of the work, from a brief introduction, to problem definitions and methods used, to finally the results found. </font>"
   ]
  },
  {
   "cell_type": "markdown",
   "metadata": {},
   "source": [
    "<br>"
   ]
  },
  {
   "cell_type": "markdown",
   "metadata": {},
   "source": [
    "# <font color= #6B6B6B> <font size = 6> 1. Introduction </font>"
   ]
  },
  {
   "cell_type": "markdown",
   "metadata": {},
   "source": [
    "<hr style=\"border:0.02in solid gray\"> </hr>"
   ]
  },
  {
   "cell_type": "markdown",
   "metadata": {},
   "source": [
    "En este estudio se implementaron dos estrategias de inversión, una pasiva y otra activa, con el objetivo de comparar sus resultados y determinar la mejor opción para un inversionista con un capital inicial de 1.000.000 de pesos. Las acciones utilizadas en este análisis fueron tomadas de un índice compuesto por acciones que cotizan en la Bolsa Mexicana de Valores y por lo tanto fueron valuadas en pesos.\n",
    "\n",
    "En la estrategia de inversión pasiva, la simulación implicó comprar las mismas acciones que se encuentran en el índice NAFTRAC en la fecha de inicio (fecha 0) y no realizar ningún cambio en la cartera a partir de entonces. Mensualmente se evaluó el valor de la cartera y se analizaron los rendimientos. La estrategia de inversión activa tuvo como objetivo simular el reequilibrio del índice NAFTRAC, ya que las ponderaciones de sus activos cambian constantemente y los componentes del índice se ajustan en función del desempeño de las empresas, con el fin de diversificar las inversiones y generar una mayor rentabilidad.\n",
    "\n",
    "Para determinar qué estrategia era la mejor opción, se utilizaron indicadores de desempeño como el rendimiento promedio, el rendimiento acumulado y el índice de Sharpe. Estos indicadores brindan información sobre el rendimiento general y el perfil de riesgo-recompensa de cada estrategia.\n",
    "\n",
    "Es importante considerar que la estrategia de inversión pasiva se basa en el principio de \"comprar y mantener\", donde el inversionista compra una canasta de acciones y las retiene por un largo período de tiempo sin realizar ningún cambio en la cartera. Esta estrategia se utiliza a menudo como punto de referencia para comparar el rendimiento de las carteras gestionadas activamente. La estrategia de inversión activa, por otro lado, implica ajustar regularmente la cartera para aprovechar las condiciones del mercado y capitalizar las tendencias del mercado, lo que requiere un enfoque más práctico y una comprensión más profunda del mercado y las acciones individuales.\n",
    "\n",
    "Al decidir sobre la mejor estrategia de inversión, es fundamental tener en cuenta los objetivos, la tolerancia al riesgo y el horizonte de inversión del inversor individual. Algunos inversores pueden preferir la simplicidad y el bajo mantenimiento de una estrategia pasiva, mientras que otros pueden preferir el potencial de mayores rendimientos de una estrategia activa. Es importante tener en cuenta que el rendimiento pasado no es garantía de resultados futuros y que invertir siempre conlleva cierto nivel de riesgo. Antes de tomar cualquier decisión de inversión, se recomienda buscar el consejo de un asesor financiero e investigar a fondo los posibles riesgos y beneficios de cada opción de inversión."
   ]
  },
  {
   "cell_type": "markdown",
   "metadata": {},
   "source": [
    "<br>"
   ]
  },
  {
   "cell_type": "markdown",
   "metadata": {},
   "source": [
    "# <font color= #6B6B6B> 2. Install/Load Packages and Depedencies </font>"
   ]
  },
  {
   "cell_type": "markdown",
   "metadata": {},
   "source": [
    "<hr style=\"border:0.02in solid gray\"> </hr>"
   ]
  },
  {
   "cell_type": "code",
   "execution_count": 1,
   "metadata": {},
   "outputs": [],
   "source": [
    "import functions as fn\n",
    "import data as dt\n",
    "import pandas as pd\n",
    "import numpy as np"
   ]
  },
  {
   "cell_type": "markdown",
   "metadata": {},
   "source": [
    "<br>"
   ]
  },
  {
   "cell_type": "markdown",
   "metadata": {},
   "source": [
    "# <font color= #6B6B6B> 3. Datos utilizados"
   ]
  },
  {
   "cell_type": "markdown",
   "metadata": {},
   "source": [
    "<hr style=\"border:0.02in solid gray\"> </hr>"
   ]
  },
  {
   "cell_type": "markdown",
   "metadata": {},
   "source": [
    "Primero, obtenemos la información de algunas variables con la función dt.tickers(). Luego, crea una lista de fechas y llama a la función fn.precios() dos veces con diferentes argumentos. Después, elimina una columna \"MXN\" del DataFrame y finalmente, llama a la función fn.pasiva_inicial() y almacena los valores de retorno."
   ]
  },
  {
   "cell_type": "code",
   "execution_count": 2,
   "metadata": {},
   "outputs": [
    {
     "name": "stdout",
     "output_type": "stream",
     "text": [
      "[*********************100%***********************]  31 of 31 completed\n",
      "[*********************100%***********************]  1 of 1 completed\n",
      "[*********************100%***********************]  5 of 5 completed\n",
      "[*********************100%***********************]  1 of 1 completed\n"
     ]
    }
   ],
   "source": [
    "tickers, cash_tickers, pond, pond_cash = dt.tickers()\n",
    "fechas_consulta=pd.to_datetime([\"2021-01-29\",\"2021-02-26\",\"2021-03-31\",\"2021-04-30\",\"2021-05-31\",\n",
    "        \"2021-06-30\",\"2021-07-30\",\"2021-08-31\",\"2021-09-30\",\"2021-10-26\",\n",
    "        \"2021-11-30\",\"2021-12-31\",\"2022-01-26\",\"2022-02-28\",\"2022-03-31\",\n",
    "        \"2022-04-29\",\"2022-05-31\",\"2022-06-30\",\"2022-07-29\",\"2022-08-31\",\n",
    "        \"2022-09-30\",\"2022-10-31\",\"2022-11-30\",\"2022-12-30\",\"2023-01-25\"])\n",
    "\n",
    "precios = fn.precios(\n",
    "    fn.ticker_reformat(tickers),\n",
    "    start_date=fechas_consulta[0],\n",
    "    end_date=\"2023-01-26\",\n",
    "    fechas_consulta=fechas_consulta\n",
    "    )\n",
    "precios_cash = fn.precios(\n",
    "    fn.ticker_reformat(cash_tickers),\n",
    "    start_date=fechas_consulta[0],\n",
    "    end_date=\"2023-01-26\",\n",
    "    fechas_consulta=fechas_consulta\n",
    ")\n",
    "precios_cash.drop(\"MXN\",axis=1,inplace=True)\n",
    "pasiva_inicial, cash = fn.pasiva_inicial(precios,precios_cash,tickers,pond,pond_cash,1e6)"
   ]
  },
  {
   "cell_type": "markdown",
   "metadata": {},
   "source": [
    "Utilizamos precios.head para ver las primeras 10 filas del DataFrame"
   ]
  },
  {
   "cell_type": "code",
   "execution_count": 3,
   "metadata": {},
   "outputs": [
    {
     "data": {
      "text/html": [
       "<div>\n",
       "<style scoped>\n",
       "    .dataframe tbody tr th:only-of-type {\n",
       "        vertical-align: middle;\n",
       "    }\n",
       "\n",
       "    .dataframe tbody tr th {\n",
       "        vertical-align: top;\n",
       "    }\n",
       "\n",
       "    .dataframe thead th {\n",
       "        text-align: right;\n",
       "    }\n",
       "</style>\n",
       "<table border=\"1\" class=\"dataframe\">\n",
       "  <thead>\n",
       "    <tr style=\"text-align: right;\">\n",
       "      <th></th>\n",
       "      <th>AC.MX</th>\n",
       "      <th>ALFAA.MX</th>\n",
       "      <th>ALSEA.MX</th>\n",
       "      <th>AMXL.MX</th>\n",
       "      <th>ASURB.MX</th>\n",
       "      <th>BBAJIOO.MX</th>\n",
       "      <th>BIMBOA.MX</th>\n",
       "      <th>BOLSAA.MX</th>\n",
       "      <th>CEMEXCPO.MX</th>\n",
       "      <th>CUERVO.MX</th>\n",
       "      <th>...</th>\n",
       "      <th>MEGACPO.MX</th>\n",
       "      <th>OMAB.MX</th>\n",
       "      <th>ORBIA.MX</th>\n",
       "      <th>PE&amp;OLES.MX</th>\n",
       "      <th>PINFRA.MX</th>\n",
       "      <th>Q.MX</th>\n",
       "      <th>TLEVISACPO.MX</th>\n",
       "      <th>VESTA.MX</th>\n",
       "      <th>WALMEX.MX</th>\n",
       "      <th>MXN</th>\n",
       "    </tr>\n",
       "  </thead>\n",
       "  <tbody>\n",
       "    <tr>\n",
       "      <th>2021-01-29</th>\n",
       "      <td>93.070000</td>\n",
       "      <td>12.90</td>\n",
       "      <td>23.110001</td>\n",
       "      <td>13.67</td>\n",
       "      <td>322.529999</td>\n",
       "      <td>24.760000</td>\n",
       "      <td>38.520000</td>\n",
       "      <td>46.000000</td>\n",
       "      <td>11.760000</td>\n",
       "      <td>43.730000</td>\n",
       "      <td>...</td>\n",
       "      <td>74.120003</td>\n",
       "      <td>120.989998</td>\n",
       "      <td>44.180000</td>\n",
       "      <td>306.750000</td>\n",
       "      <td>154.059998</td>\n",
       "      <td>107.720001</td>\n",
       "      <td>30.990000</td>\n",
       "      <td>38.650002</td>\n",
       "      <td>58.349998</td>\n",
       "      <td>20.252251</td>\n",
       "    </tr>\n",
       "    <tr>\n",
       "      <th>2021-02-26</th>\n",
       "      <td>94.769997</td>\n",
       "      <td>11.39</td>\n",
       "      <td>25.440001</td>\n",
       "      <td>13.39</td>\n",
       "      <td>391.429993</td>\n",
       "      <td>24.030001</td>\n",
       "      <td>39.299999</td>\n",
       "      <td>42.849998</td>\n",
       "      <td>13.940000</td>\n",
       "      <td>43.150002</td>\n",
       "      <td>...</td>\n",
       "      <td>72.239998</td>\n",
       "      <td>121.360001</td>\n",
       "      <td>48.790001</td>\n",
       "      <td>287.149994</td>\n",
       "      <td>153.880005</td>\n",
       "      <td>113.790001</td>\n",
       "      <td>31.129999</td>\n",
       "      <td>39.490002</td>\n",
       "      <td>59.680000</td>\n",
       "      <td>20.910900</td>\n",
       "    </tr>\n",
       "    <tr>\n",
       "      <th>2021-03-31</th>\n",
       "      <td>100.849998</td>\n",
       "      <td>11.80</td>\n",
       "      <td>30.280001</td>\n",
       "      <td>13.96</td>\n",
       "      <td>363.029999</td>\n",
       "      <td>27.570000</td>\n",
       "      <td>42.900002</td>\n",
       "      <td>41.250000</td>\n",
       "      <td>14.420000</td>\n",
       "      <td>46.759998</td>\n",
       "      <td>...</td>\n",
       "      <td>73.239998</td>\n",
       "      <td>128.520004</td>\n",
       "      <td>54.570000</td>\n",
       "      <td>263.630005</td>\n",
       "      <td>156.360001</td>\n",
       "      <td>112.419998</td>\n",
       "      <td>36.380001</td>\n",
       "      <td>42.820000</td>\n",
       "      <td>64.470001</td>\n",
       "      <td>20.576000</td>\n",
       "    </tr>\n",
       "    <tr>\n",
       "      <th>2021-04-30</th>\n",
       "      <td>108.459999</td>\n",
       "      <td>14.17</td>\n",
       "      <td>32.950001</td>\n",
       "      <td>14.15</td>\n",
       "      <td>342.609985</td>\n",
       "      <td>32.119999</td>\n",
       "      <td>40.540001</td>\n",
       "      <td>44.939999</td>\n",
       "      <td>16.090000</td>\n",
       "      <td>48.310001</td>\n",
       "      <td>...</td>\n",
       "      <td>74.110001</td>\n",
       "      <td>125.959999</td>\n",
       "      <td>56.500000</td>\n",
       "      <td>260.869995</td>\n",
       "      <td>156.539993</td>\n",
       "      <td>110.059998</td>\n",
       "      <td>50.259998</td>\n",
       "      <td>39.480000</td>\n",
       "      <td>66.309998</td>\n",
       "      <td>20.024300</td>\n",
       "    </tr>\n",
       "    <tr>\n",
       "      <th>2021-05-31</th>\n",
       "      <td>113.040001</td>\n",
       "      <td>13.98</td>\n",
       "      <td>33.410000</td>\n",
       "      <td>15.58</td>\n",
       "      <td>363.279999</td>\n",
       "      <td>34.590000</td>\n",
       "      <td>43.849998</td>\n",
       "      <td>44.500000</td>\n",
       "      <td>16.809999</td>\n",
       "      <td>50.189999</td>\n",
       "      <td>...</td>\n",
       "      <td>75.910004</td>\n",
       "      <td>128.059998</td>\n",
       "      <td>56.410000</td>\n",
       "      <td>302.589996</td>\n",
       "      <td>159.690002</td>\n",
       "      <td>108.480003</td>\n",
       "      <td>52.900002</td>\n",
       "      <td>41.029999</td>\n",
       "      <td>65.400002</td>\n",
       "      <td>19.926100</td>\n",
       "    </tr>\n",
       "    <tr>\n",
       "      <th>2021-06-30</th>\n",
       "      <td>115.620003</td>\n",
       "      <td>14.96</td>\n",
       "      <td>35.470001</td>\n",
       "      <td>15.00</td>\n",
       "      <td>367.890015</td>\n",
       "      <td>35.759998</td>\n",
       "      <td>43.889999</td>\n",
       "      <td>43.910000</td>\n",
       "      <td>16.820000</td>\n",
       "      <td>52.439999</td>\n",
       "      <td>...</td>\n",
       "      <td>70.540001</td>\n",
       "      <td>130.320007</td>\n",
       "      <td>52.139999</td>\n",
       "      <td>275.160004</td>\n",
       "      <td>159.470001</td>\n",
       "      <td>92.910004</td>\n",
       "      <td>57.020000</td>\n",
       "      <td>38.779999</td>\n",
       "      <td>65.070000</td>\n",
       "      <td>19.803101</td>\n",
       "    </tr>\n",
       "    <tr>\n",
       "      <th>2021-07-30</th>\n",
       "      <td>120.459999</td>\n",
       "      <td>15.16</td>\n",
       "      <td>40.369999</td>\n",
       "      <td>16.68</td>\n",
       "      <td>361.609985</td>\n",
       "      <td>35.639999</td>\n",
       "      <td>45.880001</td>\n",
       "      <td>40.630001</td>\n",
       "      <td>16.240000</td>\n",
       "      <td>49.810001</td>\n",
       "      <td>...</td>\n",
       "      <td>69.800003</td>\n",
       "      <td>121.849998</td>\n",
       "      <td>54.250000</td>\n",
       "      <td>280.700012</td>\n",
       "      <td>150.139999</td>\n",
       "      <td>96.889999</td>\n",
       "      <td>53.919998</td>\n",
       "      <td>39.099998</td>\n",
       "      <td>65.620003</td>\n",
       "      <td>19.851400</td>\n",
       "    </tr>\n",
       "    <tr>\n",
       "      <th>2021-08-31</th>\n",
       "      <td>129.369995</td>\n",
       "      <td>14.10</td>\n",
       "      <td>39.259998</td>\n",
       "      <td>19.77</td>\n",
       "      <td>360.429993</td>\n",
       "      <td>38.439999</td>\n",
       "      <td>50.820000</td>\n",
       "      <td>41.599998</td>\n",
       "      <td>16.500000</td>\n",
       "      <td>51.189999</td>\n",
       "      <td>...</td>\n",
       "      <td>69.930000</td>\n",
       "      <td>121.230003</td>\n",
       "      <td>57.340000</td>\n",
       "      <td>284.589996</td>\n",
       "      <td>150.000000</td>\n",
       "      <td>95.250000</td>\n",
       "      <td>52.939999</td>\n",
       "      <td>37.570000</td>\n",
       "      <td>71.459999</td>\n",
       "      <td>20.139250</td>\n",
       "    </tr>\n",
       "    <tr>\n",
       "      <th>2021-09-30</th>\n",
       "      <td>125.879997</td>\n",
       "      <td>14.31</td>\n",
       "      <td>41.610001</td>\n",
       "      <td>18.26</td>\n",
       "      <td>385.769989</td>\n",
       "      <td>39.000000</td>\n",
       "      <td>58.040001</td>\n",
       "      <td>39.720001</td>\n",
       "      <td>14.890000</td>\n",
       "      <td>44.820000</td>\n",
       "      <td>...</td>\n",
       "      <td>63.099998</td>\n",
       "      <td>121.059998</td>\n",
       "      <td>52.910000</td>\n",
       "      <td>243.300003</td>\n",
       "      <td>143.080002</td>\n",
       "      <td>94.589996</td>\n",
       "      <td>45.520000</td>\n",
       "      <td>36.200001</td>\n",
       "      <td>70.129997</td>\n",
       "      <td>20.501101</td>\n",
       "    </tr>\n",
       "    <tr>\n",
       "      <th>2021-10-26</th>\n",
       "      <td>125.160004</td>\n",
       "      <td>15.40</td>\n",
       "      <td>45.430000</td>\n",
       "      <td>18.00</td>\n",
       "      <td>393.320007</td>\n",
       "      <td>40.459999</td>\n",
       "      <td>57.439999</td>\n",
       "      <td>40.639999</td>\n",
       "      <td>13.870000</td>\n",
       "      <td>44.040001</td>\n",
       "      <td>...</td>\n",
       "      <td>62.270000</td>\n",
       "      <td>124.269997</td>\n",
       "      <td>52.389999</td>\n",
       "      <td>298.920013</td>\n",
       "      <td>149.009995</td>\n",
       "      <td>99.690002</td>\n",
       "      <td>43.570000</td>\n",
       "      <td>37.389999</td>\n",
       "      <td>73.110001</td>\n",
       "      <td>20.170500</td>\n",
       "    </tr>\n",
       "  </tbody>\n",
       "</table>\n",
       "<p>10 rows × 32 columns</p>\n",
       "</div>"
      ],
      "text/plain": [
       "                 AC.MX  ALFAA.MX   ALSEA.MX  AMXL.MX    ASURB.MX  BBAJIOO.MX  \\\n",
       "2021-01-29   93.070000     12.90  23.110001    13.67  322.529999   24.760000   \n",
       "2021-02-26   94.769997     11.39  25.440001    13.39  391.429993   24.030001   \n",
       "2021-03-31  100.849998     11.80  30.280001    13.96  363.029999   27.570000   \n",
       "2021-04-30  108.459999     14.17  32.950001    14.15  342.609985   32.119999   \n",
       "2021-05-31  113.040001     13.98  33.410000    15.58  363.279999   34.590000   \n",
       "2021-06-30  115.620003     14.96  35.470001    15.00  367.890015   35.759998   \n",
       "2021-07-30  120.459999     15.16  40.369999    16.68  361.609985   35.639999   \n",
       "2021-08-31  129.369995     14.10  39.259998    19.77  360.429993   38.439999   \n",
       "2021-09-30  125.879997     14.31  41.610001    18.26  385.769989   39.000000   \n",
       "2021-10-26  125.160004     15.40  45.430000    18.00  393.320007   40.459999   \n",
       "\n",
       "            BIMBOA.MX  BOLSAA.MX  CEMEXCPO.MX  CUERVO.MX  ...  MEGACPO.MX  \\\n",
       "2021-01-29  38.520000  46.000000    11.760000  43.730000  ...   74.120003   \n",
       "2021-02-26  39.299999  42.849998    13.940000  43.150002  ...   72.239998   \n",
       "2021-03-31  42.900002  41.250000    14.420000  46.759998  ...   73.239998   \n",
       "2021-04-30  40.540001  44.939999    16.090000  48.310001  ...   74.110001   \n",
       "2021-05-31  43.849998  44.500000    16.809999  50.189999  ...   75.910004   \n",
       "2021-06-30  43.889999  43.910000    16.820000  52.439999  ...   70.540001   \n",
       "2021-07-30  45.880001  40.630001    16.240000  49.810001  ...   69.800003   \n",
       "2021-08-31  50.820000  41.599998    16.500000  51.189999  ...   69.930000   \n",
       "2021-09-30  58.040001  39.720001    14.890000  44.820000  ...   63.099998   \n",
       "2021-10-26  57.439999  40.639999    13.870000  44.040001  ...   62.270000   \n",
       "\n",
       "               OMAB.MX   ORBIA.MX  PE&OLES.MX   PINFRA.MX        Q.MX  \\\n",
       "2021-01-29  120.989998  44.180000  306.750000  154.059998  107.720001   \n",
       "2021-02-26  121.360001  48.790001  287.149994  153.880005  113.790001   \n",
       "2021-03-31  128.520004  54.570000  263.630005  156.360001  112.419998   \n",
       "2021-04-30  125.959999  56.500000  260.869995  156.539993  110.059998   \n",
       "2021-05-31  128.059998  56.410000  302.589996  159.690002  108.480003   \n",
       "2021-06-30  130.320007  52.139999  275.160004  159.470001   92.910004   \n",
       "2021-07-30  121.849998  54.250000  280.700012  150.139999   96.889999   \n",
       "2021-08-31  121.230003  57.340000  284.589996  150.000000   95.250000   \n",
       "2021-09-30  121.059998  52.910000  243.300003  143.080002   94.589996   \n",
       "2021-10-26  124.269997  52.389999  298.920013  149.009995   99.690002   \n",
       "\n",
       "            TLEVISACPO.MX   VESTA.MX  WALMEX.MX        MXN  \n",
       "2021-01-29      30.990000  38.650002  58.349998  20.252251  \n",
       "2021-02-26      31.129999  39.490002  59.680000  20.910900  \n",
       "2021-03-31      36.380001  42.820000  64.470001  20.576000  \n",
       "2021-04-30      50.259998  39.480000  66.309998  20.024300  \n",
       "2021-05-31      52.900002  41.029999  65.400002  19.926100  \n",
       "2021-06-30      57.020000  38.779999  65.070000  19.803101  \n",
       "2021-07-30      53.919998  39.099998  65.620003  19.851400  \n",
       "2021-08-31      52.939999  37.570000  71.459999  20.139250  \n",
       "2021-09-30      45.520000  36.200001  70.129997  20.501101  \n",
       "2021-10-26      43.570000  37.389999  73.110001  20.170500  \n",
       "\n",
       "[10 rows x 32 columns]"
      ]
     },
     "execution_count": 3,
     "metadata": {},
     "output_type": "execute_result"
    }
   ],
   "source": [
    "precios.head(10)"
   ]
  },
  {
   "cell_type": "markdown",
   "metadata": {},
   "source": [
    "<br>"
   ]
  },
  {
   "cell_type": "markdown",
   "metadata": {},
   "source": [
    "# <font color= #6B6B6B> 4. Inversión Pasiva  </font>"
   ]
  },
  {
   "cell_type": "markdown",
   "metadata": {},
   "source": [
    "<hr style=\"border:0.02in solid gray\"> </hr>"
   ]
  },
  {
   "cell_type": "code",
   "execution_count": 4,
   "metadata": {},
   "outputs": [
    {
     "data": {
      "text/plain": [
       "(          Ticker    Peso(%)        Precio  Acciones          Total\n",
       " 0            AC*   2.360000     93.070000     253.0   23546.709923\n",
       " 1          ALFAA   1.300000     12.900000    1007.0   12990.299616\n",
       " 2         ALSEA*   0.660000     23.110001     285.0    6586.350174\n",
       " 3           AMXL  11.610000     13.670000    8493.0  116099.310648\n",
       " 4          ASURB   3.120000    322.529999      96.0   30962.879883\n",
       " 5        BBAJIOO   1.650000     24.760000     666.0   16490.160152\n",
       " 6         BIMBOA   4.000000     38.520000    1038.0   39983.760475\n",
       " 7         BOLSAA   0.560000     46.000000     121.0    5566.000000\n",
       " 8       CEMEXCPO   4.420000     11.760000    3758.0   44194.080860\n",
       " 9        CUERVO*   0.650000     43.730000     148.0    6472.039932\n",
       " 10      ELEKTRA*   1.940000   1386.010010      13.0   18018.130127\n",
       " 11      FEMSAUBD   9.080000    139.699997     649.0   90665.298019\n",
       " 12          GAPB   3.800000    206.600006     183.0   37807.801117\n",
       " 13      GCARSOA1   1.450000     51.590000     281.0   14496.790043\n",
       " 14          GCC*   0.710000    130.419998      54.0    7042.679901\n",
       " 15      GFINBURO   2.440000     18.280001    1334.0   24385.520916\n",
       " 16      GFNORTEO  11.890000    101.570000    1170.0  118836.899643\n",
       " 17      GMEXICOB   7.930000     87.839996     902.0   79231.676697\n",
       " 18        GRUMAB   1.520000    225.059998      67.0   15079.019836\n",
       " 19       KIMBERA   1.540000     35.810001     430.0   15398.300591\n",
       " 20        KOFUBL   2.260000     88.919998     254.0   22585.679535\n",
       " 21    LIVEPOLC.1   0.710000     65.510002     108.0    7075.080231\n",
       " 22       MEGACPO   0.520000     74.120003      70.0    5188.400192\n",
       " 23           MXN   0.630000    120.989998      52.0    6291.479889\n",
       " 24          OMAB   1.470000     44.180000     332.0   14667.760101\n",
       " 25        ORBIA*   1.090000    306.750000      35.0   10736.250000\n",
       " 26      PE&OLES*   1.650000    154.059998     107.0   16484.419739\n",
       " 27       PINFRA*   1.120000    107.720001     103.0   11095.160126\n",
       " 28            Q*   0.600000     30.990000     193.0    5981.069956\n",
       " 29    TLEVISACPO   1.710000     38.650002     442.0   17083.300674\n",
       " 30        VESTA*   1.010000     58.349998     173.0   10094.549736\n",
       " 31       WALMEX*  11.730000     20.252251    5791.0  117280.783638\n",
       " Cash        Cash   3.178236  31782.357630       1.0   31782.357630,\n",
       " 31782.357629776)"
      ]
     },
     "execution_count": 4,
     "metadata": {},
     "output_type": "execute_result"
    }
   ],
   "source": [
    "pasiva_inicial = fn.pasiva_inicial(precios,precios_cash,tickers,pond,pond_cash,1e6)\n",
    "pasiva_inicial\n"
   ]
  },
  {
   "cell_type": "markdown",
   "metadata": {},
   "source": [
    "<br>"
   ]
  },
  {
   "cell_type": "markdown",
   "metadata": {},
   "source": [
    "# <font color= #6B6B6B> 5. Another particular Process  </font>"
   ]
  },
  {
   "cell_type": "markdown",
   "metadata": {},
   "source": [
    "<hr style=\"border:0.02in solid gray\"> </hr>"
   ]
  },
  {
   "cell_type": "code",
   "execution_count": 5,
   "metadata": {},
   "outputs": [],
   "source": [
    "# DELETE THIS CELL IN YOUR FILE\n",
    "\n",
    "# Another particular process that is relevant for the work. Normally, you include between 2 and 5 at the most."
   ]
  },
  {
   "cell_type": "markdown",
   "metadata": {},
   "source": [
    "<br>"
   ]
  },
  {
   "cell_type": "markdown",
   "metadata": {},
   "source": [
    "# <font color= #6B6B6B> <font size = 6> 5. Results </font>"
   ]
  },
  {
   "cell_type": "markdown",
   "metadata": {},
   "source": [
    "<hr style=\"border:0.02in solid gray\"> </hr>"
   ]
  },
  {
   "cell_type": "code",
   "execution_count": 6,
   "metadata": {},
   "outputs": [],
   "source": [
    "# DELETE THIS CELL IN YOUR FILE\n",
    "\n",
    "# In here you present the general results, and also, a discussion of such results."
   ]
  },
  {
   "cell_type": "markdown",
   "metadata": {},
   "source": [
    "<br>"
   ]
  },
  {
   "cell_type": "markdown",
   "metadata": {},
   "source": [
    "## <font color= #6B6B6B> 5.1 Results of first processes </font>"
   ]
  },
  {
   "cell_type": "code",
   "execution_count": 7,
   "metadata": {},
   "outputs": [],
   "source": [
    "# DELETE THIS CELL IN YOUR FILE\n",
    "\n",
    "# Separate your results according to the main processes you are working on"
   ]
  },
  {
   "cell_type": "markdown",
   "metadata": {},
   "source": [
    "<br>"
   ]
  },
  {
   "cell_type": "markdown",
   "metadata": {},
   "source": [
    "## <font color= #6B6B6B> 5.2 Results of another proces </font>"
   ]
  },
  {
   "cell_type": "code",
   "execution_count": 8,
   "metadata": {},
   "outputs": [],
   "source": [
    "# DELETE THIS CELL IN YOUR FILE\n",
    "\n",
    "# You can have several processes with which you are obtaining the results you need."
   ]
  },
  {
   "cell_type": "markdown",
   "metadata": {},
   "source": [
    "<br>"
   ]
  },
  {
   "cell_type": "markdown",
   "metadata": {},
   "source": [
    "# <font color= #6B6B6B> <font size = 6> 6. References </font>"
   ]
  },
  {
   "cell_type": "markdown",
   "metadata": {},
   "source": [
    "<hr style=\"border:0.02in solid gray\"> </hr>"
   ]
  },
  {
   "cell_type": "code",
   "execution_count": 9,
   "metadata": {},
   "outputs": [],
   "source": [
    "# DELETE THIS CELL IN YOUR FILE\n",
    "\n",
    "# Citations, and other references you are using.\n",
    "\n",
    "# DO INCLUDE THE FOLLOWING CITATION FOR THIS TEMPLATE"
   ]
  },
  {
   "cell_type": "markdown",
   "metadata": {},
   "source": [
    "<br>"
   ]
  }
 ],
 "metadata": {
  "kernelspec": {
   "display_name": "Python 3 (ipykernel)",
   "language": "python",
   "name": "python3"
  },
  "language_info": {
   "codemirror_mode": {
    "name": "ipython",
    "version": 3
   },
   "file_extension": ".py",
   "mimetype": "text/x-python",
   "name": "python",
   "nbconvert_exporter": "python",
   "pygments_lexer": "ipython3",
   "version": "3.9.12"
  }
 },
 "nbformat": 4,
 "nbformat_minor": 4
}
